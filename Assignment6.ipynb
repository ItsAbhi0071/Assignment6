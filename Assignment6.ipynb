{
 "cells": [
  {
   "cell_type": "code",
   "execution_count": 1,
   "id": "846953f2-7c2d-426c-ae29-e462c25d7e91",
   "metadata": {},
   "outputs": [
    {
     "name": "stdout",
     "output_type": "stream",
     "text": [
      "An object is called an instance of a class. \n",
      "A Class is like an object constructor, or a \"blueprint\" for creating objects. \n",
      "For example, suppose Bike is a class then we can create objects like bike1 , bike2 , etc from the class.\n"
     ]
    }
   ],
   "source": [
    "#qus1\n",
    "print('''An object is called an instance of a class. \n",
    "A Class is like an object constructor, or a \"blueprint\" for creating objects. \n",
    "For example, suppose Bike is a class then we can create objects like bike1 , bike2 , etc from the class.''')"
   ]
  },
  {
   "cell_type": "code",
   "execution_count": 2,
   "id": "cb31e7f1-87bf-4dd0-8077-c3cf6ca2977d",
   "metadata": {},
   "outputs": [
    {
     "data": {
      "text/plain": [
       "__main__.bike"
      ]
     },
     "execution_count": 2,
     "metadata": {},
     "output_type": "execute_result"
    }
   ],
   "source": [
    "#qus1\n",
    "class bike:\n",
    "    pass\n",
    "bike1=bike()\n",
    "type(bike1)"
   ]
  },
  {
   "cell_type": "code",
   "execution_count": 3,
   "id": "833ac82a-6fae-4ee9-941c-eab4d97419c3",
   "metadata": {},
   "outputs": [
    {
     "name": "stdout",
     "output_type": "stream",
     "text": [
      "four pillars are Inheritance, Polymorphism, Encapsulation & Abstraction.\n"
     ]
    }
   ],
   "source": [
    "#qus2\n",
    "print(\"four pillars are Inheritance, Polymorphism, Encapsulation & Abstraction.\")"
   ]
  },
  {
   "cell_type": "code",
   "execution_count": 4,
   "id": "282b36fa-61cc-465a-a1bc-8e0b593fd1ae",
   "metadata": {},
   "outputs": [
    {
     "name": "stdout",
     "output_type": "stream",
     "text": [
      "init is short for initialization. It is a constructor which gets called when you make an instance of the class\n"
     ]
    }
   ],
   "source": [
    "#qus3\n",
    "print(\"init is short for initialization. It is a constructor which gets called when you make an instance of the class\")"
   ]
  },
  {
   "cell_type": "code",
   "execution_count": 5,
   "id": "aaf59ae8-2b40-490a-9012-abe4bbdf9721",
   "metadata": {},
   "outputs": [],
   "source": [
    "#qus3\n",
    "class assign:\n",
    "    def __init__(self,a,b,c):\n",
    "        self.a=a\n",
    "        self.b=b\n",
    "        self.c=c\n",
    "        \n",
    "assign1=assign(1,2,3)"
   ]
  },
  {
   "cell_type": "code",
   "execution_count": 6,
   "id": "93fae369-a88a-4e00-b519-415a78509be5",
   "metadata": {},
   "outputs": [
    {
     "data": {
      "text/plain": [
       "1"
      ]
     },
     "execution_count": 6,
     "metadata": {},
     "output_type": "execute_result"
    }
   ],
   "source": [
    "assign1.a"
   ]
  },
  {
   "cell_type": "code",
   "execution_count": 7,
   "id": "a2473b2c-a4dc-4f2e-9636-12a0ac56b75c",
   "metadata": {},
   "outputs": [
    {
     "data": {
      "text/plain": [
       "2"
      ]
     },
     "execution_count": 7,
     "metadata": {},
     "output_type": "execute_result"
    }
   ],
   "source": [
    "assign1.b"
   ]
  },
  {
   "cell_type": "code",
   "execution_count": 8,
   "id": "5b3fd3c7-491b-4e70-a99f-db407dee3f13",
   "metadata": {},
   "outputs": [
    {
     "data": {
      "text/plain": [
       "3"
      ]
     },
     "execution_count": 8,
     "metadata": {},
     "output_type": "execute_result"
    }
   ],
   "source": [
    "assign1.c"
   ]
  },
  {
   "cell_type": "code",
   "execution_count": 9,
   "id": "b39c55c9-2070-45a8-a5f2-fd0431361b0b",
   "metadata": {},
   "outputs": [
    {
     "name": "stdout",
     "output_type": "stream",
     "text": [
      "The self in keyword in Python is used to all the instances in a class. \n",
      "      By using the self keyword, one can easily access all the instances defined within a class, \n",
      "      including its methods and attributes.\n"
     ]
    }
   ],
   "source": [
    "#qus4\n",
    "print('''The self in keyword in Python is used to all the instances in a class. \n",
    "      By using the self keyword, one can easily access all the instances defined within a class, \n",
    "      including its methods and attributes.''')"
   ]
  },
  {
   "cell_type": "code",
   "execution_count": 10,
   "id": "468e29c9-c05a-471f-8672-44847e86d074",
   "metadata": {},
   "outputs": [
    {
     "name": "stdout",
     "output_type": "stream",
     "text": [
      "There are five types of inheritances:\n",
      "Single Inheritance\n",
      "Multiple Inheritance\n",
      "Multilevel Inheritance\n",
      "Hierarchical Inheritance\n",
      "Hybrid Inheritance\n"
     ]
    }
   ],
   "source": [
    "#qus5\n",
    "print('''There are five types of inheritances:\n",
    "Single Inheritance\n",
    "Multiple Inheritance\n",
    "Multilevel Inheritance\n",
    "Hierarchical Inheritance\n",
    "Hybrid Inheritance''')"
   ]
  },
  {
   "cell_type": "code",
   "execution_count": null,
   "id": "c113a9d2-5152-4ab9-8391-0180be24e77c",
   "metadata": {},
   "outputs": [],
   "source": []
  }
 ],
 "metadata": {
  "kernelspec": {
   "display_name": "Python 3 (ipykernel)",
   "language": "python",
   "name": "python3"
  },
  "language_info": {
   "codemirror_mode": {
    "name": "ipython",
    "version": 3
   },
   "file_extension": ".py",
   "mimetype": "text/x-python",
   "name": "python",
   "nbconvert_exporter": "python",
   "pygments_lexer": "ipython3",
   "version": "3.10.6"
  }
 },
 "nbformat": 4,
 "nbformat_minor": 5
}
